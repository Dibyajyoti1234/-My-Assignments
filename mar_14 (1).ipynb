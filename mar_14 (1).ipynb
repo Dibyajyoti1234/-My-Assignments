{
 "cells": [
  {
   "cell_type": "code",
   "execution_count": null,
   "id": "147a03f0-f7a3-4330-9c0b-dfa114215f07",
   "metadata": {},
   "outputs": [],
   "source": [
    "#1\n",
    "from scipy.stats import f_oneway\n",
    "\n",
    "def variance_ratio_test(arr1, arr2):\n",
    "    f_value, p_value = f_oneway(arr1, arr2)\n",
    "    return f_value, p_value\n"
   ]
  },
  {
   "cell_type": "code",
   "execution_count": null,
   "id": "2a426364-d251-4d1e-a2d3-719002f92b4d",
   "metadata": {},
   "outputs": [],
   "source": [
    "#2\n",
    "from scipy.stats import f\n",
    "\n",
    "def critical_f_value(significance_level, dfn, dfd):\n",
    "    return f.ppf(1 - significance_level / 2, dfn, dfd)"
   ]
  },
  {
   "cell_type": "code",
   "execution_count": null,
   "id": "8d367341-ced0-400c-8ee4-f171813b1051",
   "metadata": {},
   "outputs": [],
   "source": [
    "#3\n",
    "import numpy as np\n",
    "from scipy.stats import f_oneway\n",
    "\n",
    "def variance_ratio_test(arr1, arr2):\n",
    "    sample1 = np.random.normal(loc=0, scale=1, size=arr1)\n",
    "    sample2 = np.random.normal(loc=0, scale=1, size=arr2)\n",
    "    f_value, p_value = f_oneway(sample1, sample2)\n",
    "    print(\"F-value: \", f_value)\n",
    "    print(\"Degrees of freedom: \", len(sample1) - 1, len(sample2) - 1)\n",
    "    print(\"p-value: \", p_value)"
   ]
  },
  {
   "cell_type": "code",
   "execution_count": null,
   "id": "e79dd93b-39ab-4cfe-a479-2dff4d5dc243",
   "metadata": {},
   "outputs": [],
   "source": [
    "#4\n",
    "from scipy.stats import f_oneway\n",
    "\n",
    "def variance_ratio_test(arr1, arr2):\n",
    "    f_value, p_value = f_oneway(arr1, arr2)\n",
    "    return f_value, p_value\n",
    "\n",
    "variance_ratio_test([10]*12, [15]*12)"
   ]
  },
  {
   "cell_type": "code",
   "execution_count": 1,
   "id": "de0be4dc-4298-4d8a-933c-6fa7ac11c1ed",
   "metadata": {},
   "outputs": [],
   "source": [
    "#5\n",
    "\n",
    "from scipy.stats import f_oneway\n",
    "\n",
    "def variance_ratio_test(sample_var, pop_var, sample_size, significance_level):\n",
    "    f_value = sample_var / pop_var\n",
    "    dfn = sample_size - 1\n",
    "    dfd = sample_size\n",
    "    p_value = 1 - f_oneway([sample_var], [pop_var])[1]\n",
    "    if p_value < significance_level:\n",
    "        return f\"The claim that the variance of the diameter of a certain product is {pop_var} is **not** justified at a {significance_level*100}% significance level.\"\n",
    "    else:\n",
    "        return f\"The claim that the variance of the diameter of a certain product is {pop_var} is justified at a {significance_level*100}% significance level.\"\n",
    "\n"
   ]
  },
  {
   "cell_type": "code",
   "execution_count": null,
   "id": "d16890a9-8dbe-4efa-8f7a-c8f011c14e09",
   "metadata": {},
   "outputs": [],
   "source": [
    "#6\n",
    "from scipy.stats import f\n",
    "\n",
    "def f_distribution_mean_and_variance(dfn, dfd):\n",
    "    # Calculate the mean of the F-distribution\n",
    "    mean = f.mean(dfn, dfd)\n",
    "\n",
    "    # Calculate the variance of the F-distribution\n",
    "    variance = f.var(dfn, dfd)\n",
    "\n",
    "    # Return the mean and variance as a tuple\n",
    "    return mean, variance"
   ]
  },
  {
   "cell_type": "code",
   "execution_count": null,
   "id": "2e7e1951-0eb8-418e-8fef-bd92d742cf62",
   "metadata": {},
   "outputs": [],
   "source": [
    "#7\n",
    "from scipy.stats import f_oneway\n",
    "\n",
    "def variance_ratio_test(arr1, arr2):\n",
    "    f_value, p_value = f_oneway(arr1, arr2)\n",
    "    return f_value, p_value\n",
    "\n",
    "variance_ratio_test([25]*10, [20]*15)"
   ]
  },
  {
   "cell_type": "code",
   "execution_count": null,
   "id": "72992286-4798-4b68-bb26-0dfc207615dd",
   "metadata": {},
   "outputs": [],
   "source": [
    "#8\n",
    "from scipy.stats import f_oneway\n",
    "\n",
    "def variance_ratio_test(arr1, arr2):\n",
    "    f_value, p_value = f_oneway(arr1, arr2)\n",
    "    return f_value, p_value\n",
    "\n",
    "variance_ratio_test([24, 25, 28, 23, 22, 20, 27], [31, 33, 35, 30, 32, 36])"
   ]
  },
  {
   "cell_type": "code",
   "execution_count": null,
   "id": "4ad21791-97bd-41f4-805e-dc44ac977e9d",
   "metadata": {},
   "outputs": [],
   "source": [
    "#9\n",
    "from scipy.stats import f_oneway\n",
    "\n",
    "def variance_ratio_test(arr1, arr2):\n",
    "    f_value, p_value = f_oneway(arr1, arr2)\n",
    "    return f_value, p_value\n",
    "\n",
    "variance_ratio_test([80, 85, 90, 92, 87, 83], [75, 78, 82, 79, 81, 84])\n"
   ]
  }
 ],
 "metadata": {
  "kernelspec": {
   "display_name": "Python 3 (ipykernel)",
   "language": "python",
   "name": "python3"
  },
  "language_info": {
   "codemirror_mode": {
    "name": "ipython",
    "version": 3
   },
   "file_extension": ".py",
   "mimetype": "text/x-python",
   "name": "python",
   "nbconvert_exporter": "python",
   "pygments_lexer": "ipython3",
   "version": "3.10.8"
  }
 },
 "nbformat": 4,
 "nbformat_minor": 5
}
