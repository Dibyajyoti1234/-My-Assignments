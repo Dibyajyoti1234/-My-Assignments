{
 "cells": [
  {
   "cell_type": "code",
   "execution_count": null,
   "id": "ab926e2d-7d67-447f-af59-db9a5fdef736",
   "metadata": {},
   "outputs": [],
   "source": [
    "#Q-1\n",
    "# statistics is the science of collecting,analyzing and organizing of data"
   ]
  },
  {
   "cell_type": "code",
   "execution_count": null,
   "id": "5cebb784-2aca-468d-8eaf-b36ad0011a6c",
   "metadata": {},
   "outputs": [],
   "source": [
    "# Q-2\n",
    "# There are two types of statistics. i)Descriptive statistics ex: calculation of average age of students in a class ii)inferential statistics ex :determining the winner party in election"
   ]
  },
  {
   "cell_type": "code",
   "execution_count": null,
   "id": "749ac069-93c0-4992-8f36-33694ae352f4",
   "metadata": {},
   "outputs": [],
   "source": [
    "#Q-3\n",
    "# There are two types of data i)quantitative data ii)qualitative data quantitative data is a value based data it is forther divided in two parts discrete and continous discrete takes whole number of value while continous takes any type of numeric value qualitative data is categorical data it also divided into two types nominal and ordinal data in nominal there is no rank assign while in ordinal rank is assign"
   ]
  },
  {
   "cell_type": "code",
   "execution_count": null,
   "id": "559f82cc-61f6-4218-97d6-1428d089da77",
   "metadata": {},
   "outputs": [],
   "source": [
    "#Q-4\n",
    "#  (i) Grading in exam: A+, A, B+, B, C+, C, D, E - its the qualitative ordinal data (ii) Colour of mangoes: yellow, green, orange, red - it is the qualitative nominal data (iii) Height data of a class: [178.9, 179, 179.5, 176, 177.2, 178.3, 175.8,...] - it is the quantitative continous data (iv) Number of mangoes exported by a farm: [500, 600, 478, 672, …] - it is the quantitative discrete data"
   ]
  },
  {
   "cell_type": "code",
   "execution_count": null,
   "id": "afd025a6-c006-46e3-b9b4-098a410e107d",
   "metadata": {},
   "outputs": [],
   "source": [
    "#Q-5\n",
    "#  levels of measurment is a process of catagorizing data.levels of measurment is uses for analizing data.there are four scale data i. Nominal scale data ex- favorite colour ii. Ordinal scale data ex- review system iii. Interval scale data ex-temperature variable iv. ratio scale data ex- student marks in a class"
   ]
  },
  {
   "cell_type": "code",
   "execution_count": 8,
   "id": "3d12934e-187e-416b-8973-e6b06402b67c",
   "metadata": {},
   "outputs": [],
   "source": [
    "#Q-6\n",
    "# it is important to understand level of measurment when analyzing data because if we able to know the category of the data then analyzing the data will be easy for us. example :- before analyzing temperature variable we have to know that it is the interval scale data so we can calculate its differnce but we can't calculage its ratio"
   ]
  },
  {
   "cell_type": "code",
   "execution_count": 9,
   "id": "d19638bf-d089-4311-a96f-67de3a906fd6",
   "metadata": {},
   "outputs": [],
   "source": [
    "#Q-7\n",
    "# In nominal data we can't assign rank to data but in ordinal data we can assign rank with data"
   ]
  },
  {
   "cell_type": "code",
   "execution_count": 10,
   "id": "8c6832b0-e684-45a6-b76c-82c7c09b85eb",
   "metadata": {},
   "outputs": [],
   "source": [
    "#Q-8\n",
    "# Boxplot"
   ]
  },
  {
   "cell_type": "code",
   "execution_count": 11,
   "id": "05731c28-c799-4c5e-93ef-c33b3552f59d",
   "metadata": {},
   "outputs": [],
   "source": [
    "#Q-9\n",
    "# descriptive - its consists of organizing & summerizing the data in terms of measure of central tendency ex: mean,mode,median inferential - its consist of using data you have measured to form conclusion ex : hypothesis testing"
   ]
  },
  {
   "cell_type": "code",
   "execution_count": null,
   "id": "350a2018-dea3-40b3-9cab-fa7bd3bea7e8",
   "metadata": {},
   "outputs": [],
   "source": [
    "#Q-10\n",
    "# commom measure of central tendency are mean,median,mode ex : x = {12,3,4,5,3} mean = 12+3+4+5+3/5 = 24.6 median = 4 mode = 3"
   ]
  }
 ],
 "metadata": {
  "kernelspec": {
   "display_name": "Python 3 (ipykernel)",
   "language": "python",
   "name": "python3"
  },
  "language_info": {
   "codemirror_mode": {
    "name": "ipython",
    "version": 3
   },
   "file_extension": ".py",
   "mimetype": "text/x-python",
   "name": "python",
   "nbconvert_exporter": "python",
   "pygments_lexer": "ipython3",
   "version": "3.10.8"
  }
 },
 "nbformat": 4,
 "nbformat_minor": 5
}
