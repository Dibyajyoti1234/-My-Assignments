{
 "cells": [
  {
   "cell_type": "code",
   "execution_count": 2,
   "id": "78961e4f-ce69-43a9-b74c-0f67ba9086c8",
   "metadata": {},
   "outputs": [
    {
     "name": "stdout",
     "output_type": "stream",
     "text": [
      "<class 'array.array'>\n",
      "1 2 3 "
     ]
    }
   ],
   "source": [
    "#1\n",
    "import array as arr\n",
    "a = arr.array('i', [1, 2, 3])\n",
    "print(type(a))  # Output: <class 'array.array'>\n",
    "for i in a:\n",
    "    print(i, end=\" \") "
   ]
  },
  {
   "cell_type": "code",
   "execution_count": null,
   "id": "77594ff0-4f03-43e8-ae17-824ed313fb16",
   "metadata": {},
   "outputs": [],
   "source": [
    "#2\n",
    "for item in list_:\n",
    "    print(f\"Data type of element '{item}': {type(item)}\")"
   ]
  },
  {
   "cell_type": "code",
   "execution_count": null,
   "id": "bd8968e3-78fb-49a7-ad4f-95bc8ae5be73",
   "metadata": {},
   "outputs": [],
   "source": [
    "#3\n",
    "list_ = ['1', '2', '3', '4', '5']\n",
    "array_list = np.array(object=list_)\n",
    "for item in list_:\n",
    "    print(f\"Data type of element in list_: {type(item)}\")\n",
    "for item in array_list:\n",
    "    print(f\"Data type of element in array_list: {type(item)}\")\n",
    "rray_list = np.array(object=list_, dtype=int)\n",
    "for item in array_list:\n",
    "    print(f\"Data type of element in modified array_list: {type(item)}\")\n",
    "    num_list = [[1, 2, 3], [4, 5, 6]]\n",
    "num_array = np.array(object=num_list)"
   ]
  },
  {
   "cell_type": "code",
   "execution_count": null,
   "id": "eb5e84a4-0c78-43eb-b263-a2d4cc50ad16",
   "metadata": {},
   "outputs": [],
   "source": [
    "#4\n",
    "print(\"Shape of num_array:\", num_array.shape)\n",
    "print(\"Size of num_array:\", num_array.size)\n"
   ]
  },
  {
   "cell_type": "code",
   "execution_count": null,
   "id": "616277a2-0edd-4ba8-a4e1-9ac70db6dc66",
   "metadata": {},
   "outputs": [],
   "source": [
    "#5\n",
    "import numpy as np\n",
    "zero_matrix = np.zeros((3, 3), dtype=int)\n",
    "print(\"3x3 Matrix of Zeros:\")\n",
    "print(zero_matrix)\n"
   ]
  },
  {
   "cell_type": "code",
   "execution_count": null,
   "id": "ba8c4f27-f519-4b72-bbd3-40483114d39d",
   "metadata": {},
   "outputs": [],
   "source": [
    "#6\n",
    "import numpy as np\n",
    "identity_matrix = np.identity(5, dtype=int)\n",
    "print(\"5x5 Identity Matrix:\")\n",
    "print(identity_matrix)\n"
   ]
  }
 ],
 "metadata": {
  "kernelspec": {
   "display_name": "Python 3 (ipykernel)",
   "language": "python",
   "name": "python3"
  },
  "language_info": {
   "codemirror_mode": {
    "name": "ipython",
    "version": 3
   },
   "file_extension": ".py",
   "mimetype": "text/x-python",
   "name": "python",
   "nbconvert_exporter": "python",
   "pygments_lexer": "ipython3",
   "version": "3.10.8"
  }
 },
 "nbformat": 4,
 "nbformat_minor": 5
}
