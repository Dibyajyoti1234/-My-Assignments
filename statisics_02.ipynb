{
 "cells": [
  {
   "cell_type": "code",
   "execution_count": 1,
   "id": "87e35440-6ca9-4345-bb76-09a969ecd8b3",
   "metadata": {},
   "outputs": [],
   "source": [
    "# Q-1\n",
    "# mean,median,mode"
   ]
  },
  {
   "cell_type": "code",
   "execution_count": 2,
   "id": "4bffd6c9-68d6-4204-97d2-d682a60a2860",
   "metadata": {},
   "outputs": [],
   "source": [
    "# Q-2\n",
    "# mean is use to calculate average of random data. median is use to define the mmidpoint of random data and it is use in case of outlier.mode is use to calculate the frequencies. ex: x = {1,2,3,4,5} mean = (1+2+3+4+5)/5=3 median = 3 x = {1,2,3,4,5,3} mode = 3"
   ]
  },
  {
   "cell_type": "code",
   "execution_count": 3,
   "id": "4e7dad4b-5938-4cfa-8fff-101d617e87e0",
   "metadata": {},
   "outputs": [
    {
     "data": {
      "text/plain": [
       "0    177.01875\n",
       "dtype: float64"
      ]
     },
     "execution_count": 3,
     "metadata": {},
     "output_type": "execute_result"
    }
   ],
   "source": [
    "# Q-3\n",
    "import pandas as pd\n",
    "df = pd.DataFrame([178,177,176,177,178.2,178,175,179,180,175,178.9,176.2,177,172.5,178,176.5])\n",
    "df.mean()"
   ]
  },
  {
   "cell_type": "code",
   "execution_count": 4,
   "id": "bfdaa5f1-9c70-42a8-86de-d6ee588c9afe",
   "metadata": {},
   "outputs": [
    {
     "data": {
      "text/plain": [
       "0    177.0\n",
       "dtype: float64"
      ]
     },
     "execution_count": 4,
     "metadata": {},
     "output_type": "execute_result"
    }
   ],
   "source": [
    "df.median()"
   ]
  },
  {
   "cell_type": "code",
   "execution_count": 5,
   "id": "35f75ba5-cb75-4897-9a45-e567c9cc1b16",
   "metadata": {},
   "outputs": [
    {
     "data": {
      "text/html": [
       "<div>\n",
       "<style scoped>\n",
       "    .dataframe tbody tr th:only-of-type {\n",
       "        vertical-align: middle;\n",
       "    }\n",
       "\n",
       "    .dataframe tbody tr th {\n",
       "        vertical-align: top;\n",
       "    }\n",
       "\n",
       "    .dataframe thead th {\n",
       "        text-align: right;\n",
       "    }\n",
       "</style>\n",
       "<table border=\"1\" class=\"dataframe\">\n",
       "  <thead>\n",
       "    <tr style=\"text-align: right;\">\n",
       "      <th></th>\n",
       "      <th>0</th>\n",
       "    </tr>\n",
       "  </thead>\n",
       "  <tbody>\n",
       "    <tr>\n",
       "      <th>0</th>\n",
       "      <td>177.0</td>\n",
       "    </tr>\n",
       "    <tr>\n",
       "      <th>1</th>\n",
       "      <td>178.0</td>\n",
       "    </tr>\n",
       "  </tbody>\n",
       "</table>\n",
       "</div>"
      ],
      "text/plain": [
       "       0\n",
       "0  177.0\n",
       "1  178.0"
      ]
     },
     "execution_count": 5,
     "metadata": {},
     "output_type": "execute_result"
    }
   ],
   "source": [
    "df.mode()"
   ]
  },
  {
   "cell_type": "code",
   "execution_count": 6,
   "id": "35c6c218-e644-42c4-ac1b-5dcb06a2cb07",
   "metadata": {},
   "outputs": [
    {
     "data": {
      "text/plain": [
       "0    1.847239\n",
       "dtype: float64"
      ]
     },
     "execution_count": 6,
     "metadata": {},
     "output_type": "execute_result"
    }
   ],
   "source": [
    "# Q-4\n",
    "import pandas as pd\n",
    "df = pd.DataFrame([178,177,176,177,178.2,178,175,179,180,175,178.9,176.2,177,172.5,178,176.5])\n",
    "df.std()"
   ]
  },
  {
   "cell_type": "code",
   "execution_count": 8,
   "id": "660b2d8a-bf82-4523-a297-bddc7881551d",
   "metadata": {},
   "outputs": [],
   "source": [
    "# Q-5\n",
    "#Measures of dispersion such as range, variance, and standard deviation are used to describe the spread of a dataset. The range is the difference between the largest and smallest data points in a set. The variance is the average of the squared differences between each value and the mean. Standard deviation is the square root of the variance. It is a measure of how spread out the data is from its mean1.\n",
    "\n",
    "#For example, suppose we have a dataset of 5 numbers: 1, 2, 3, 4, 5. The mean of this dataset is (1+2+3+4+5)/5 = 3. The range is 5-1 = 4. The variance is ((1-3)^2 + (2-3)^2 + (3-3)^2 + (4-3)^2 + (5-3)^2)/5 = 2. The standard deviation is sqrt(2) = 1.412."
   ]
  },
  {
   "cell_type": "code",
   "execution_count": 9,
   "id": "b0a54d05-5e3d-499f-8c87-24b00a473293",
   "metadata": {},
   "outputs": [],
   "source": [
    "# Q-6\n",
    "# A Venn diagram is a schematic representation of the elements in a set or a group."
   ]
  },
  {
   "cell_type": "code",
   "execution_count": 10,
   "id": "01aba159-2b9b-4309-8cbf-7c4772a3c5e2",
   "metadata": {},
   "outputs": [],
   "source": [
    "# Q-7\n",
    "# ){2,6} ii){2,3,4,5,6,7,0,8,10}"
   ]
  },
  {
   "cell_type": "code",
   "execution_count": 11,
   "id": "ce44a091-54af-4e95-acea-ed10838458ba",
   "metadata": {},
   "outputs": [],
   "source": [
    "# Q-8\n",
    "# Skewness describes how much statistical data distribution is asymmetrical from the normal distribution"
   ]
  },
  {
   "cell_type": "code",
   "execution_count": 12,
   "id": "647c12df-248e-4aaa-a10f-611f712d6e55",
   "metadata": {},
   "outputs": [],
   "source": [
    "# Q-9\n",
    "#  mean>median"
   ]
  },
  {
   "cell_type": "code",
   "execution_count": 13,
   "id": "6f01b2aa-b313-485d-a0c8-902c8de2024c",
   "metadata": {},
   "outputs": [],
   "source": [
    "# Q-10\n",
    "# covariance doesnot have specific limit value where as corelation has specific limit value"
   ]
  },
  {
   "cell_type": "code",
   "execution_count": 14,
   "id": "707e4c13-a2a1-4caa-84b0-d62f9365cea2",
   "metadata": {},
   "outputs": [],
   "source": [
    "# Q-11\n",
    "# he formila of sample mean X̄ = (Σ xi) / n ex: x = {1,2,3,4,5} sample mean = (1+2+3+4+5)/5=3"
   ]
  },
  {
   "cell_type": "code",
   "execution_count": 15,
   "id": "c1ef6c02-dc69-46b7-b530-9960da4b4d2f",
   "metadata": {},
   "outputs": [],
   "source": [
    "# Q-12\n",
    "# for a normal distribution mean = median = mode"
   ]
  },
  {
   "cell_type": "code",
   "execution_count": 16,
   "id": "dabf0284-3123-48b7-b877-e3aa0d805920",
   "metadata": {},
   "outputs": [],
   "source": [
    "# Q-13\n",
    "# ovariance doesnot have specific limit value where as corelation has specific limit value"
   ]
  },
  {
   "cell_type": "code",
   "execution_count": null,
   "id": "2cf3b429-be6c-4e33-a661-b91959684db0",
   "metadata": {},
   "outputs": [],
   "source": [
    "# Q-14\n"
   ]
  }
 ],
 "metadata": {
  "kernelspec": {
   "display_name": "Python 3 (ipykernel)",
   "language": "python",
   "name": "python3"
  },
  "language_info": {
   "codemirror_mode": {
    "name": "ipython",
    "version": 3
   },
   "file_extension": ".py",
   "mimetype": "text/x-python",
   "name": "python",
   "nbconvert_exporter": "python",
   "pygments_lexer": "ipython3",
   "version": "3.10.8"
  }
 },
 "nbformat": 4,
 "nbformat_minor": 5
}
