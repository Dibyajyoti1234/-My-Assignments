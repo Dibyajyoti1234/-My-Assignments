{
 "cells": [
  {
   "cell_type": "code",
   "execution_count": 1,
   "id": "a334f05c-d02d-42e3-8948-d25cb6ef2c5a",
   "metadata": {},
   "outputs": [],
   "source": [
    "#1-\n",
    "# A probability mass function (PMF) is a function that assigns a probability to each possible value of a discrete random variable.\n",
    "# For example, if we roll a die, the PMF would assign a probability of 1/6 to each of the numbers 1 through 6. A probability density function (PDF) is a function that describes the relative likelihood of a continuous random variable to take on a given value. For example, if we measure the height of people in a population, the PDF would describe how likely it is for someone to be a certain height. The integral of a PDF over an interval gives the probability that a random variable falls within that interval"
   ]
  },
  {
   "cell_type": "code",
   "execution_count": 2,
   "id": "01457200-b208-453a-8ca8-5ca03d36932f",
   "metadata": {},
   "outputs": [],
   "source": [
    "#2-\n",
    "# A Cumulative Density Function (CDF) is a graph that shows the cumulative distribution of a random variable. The graph of the CDF is a line that starts at 0 when x is less than the lower endpoint of the support and ends at 1 when x is greater than the upper endpoint.\n",
    "# For example, suppose we roll a dice one time. The probability mass function (PMF) for this experiment would be f(x) = 1/6 for x = 1,2,3,4,5,6. The cumulative distribution function (CDF) would be F(x) = 0 for x < 1, F(x) = 1/6 for 1 ≤ x < 2, F(x) = 2/6 for 2 ≤ x < 3, F(x) = 3/6 for 3 ≤ x < 4, F(x) = 4/6 for 4 ≤ x < 5, F(x) = 5/6 for 5 ≤ x < 6 and F(x) = 1 for x ≥ 6"
   ]
  },
  {
   "cell_type": "code",
   "execution_count": null,
   "id": "c5f6e226-d53b-461b-8b78-f15cf994faa6",
   "metadata": {},
   "outputs": [],
   "source": [
    "#3-\n",
    "# Some examples of situations where the normal distribution might be used as a model are:\n",
    "# Heights of people in a population.\n",
    "# Errors in measurements.\n",
    "# IQ scores.\n",
    "# Blood pressure measurements.\n",
    "# Weights of products manufactured by a company1.\n",
    "# The normal distribution is characterized by two parameters: the mean (μ) and the standard deviation (σ). The mean determines where the peak of the curve is centered. Increasing the mean moves the curve right, while decreasing it moves the curve left. The standard deviation stretches or squeezes the curve. A small standard deviation results in a narrow curve, while a large standard deviation leads to a wide curve"
   ]
  },
  {
   "cell_type": "code",
   "execution_count": 1,
   "id": "d28a7216-3edc-4762-8886-e486cb36f7c7",
   "metadata": {},
   "outputs": [],
   "source": [
    "#4-\n",
    "#Normal distribution is important because it accurately describes the distribution of values for many natural phenomena1 and it applies in most machine learning algorithms\n",
    "#2. Some examples of variables that are normally or approximately normally distributed are:\n",
    "\n",
    "#Height of a population3\n",
    "#SAT scores4\n",
    "# Measurement errors3"
   ]
  },
  {
   "cell_type": "code",
   "execution_count": 2,
   "id": "ba93a58c-3922-47e4-900f-3f6e5ba86633",
   "metadata": {},
   "outputs": [],
   "source": [
    "#5-\n",
    "# Bernoulli distribution is a discrete probability distribution of a random variable that can only take two possible outcomes: 0 or 1, with a fixed probability of success p1. An example of a Bernoulli distribution is the outcome of a coin toss, where 0 represents tails and 1 represents heads.\n",
    "#The difference between Bernoulli and binomial distribution is that Bernoulli deals with the outcome of a single trial, whereas binomial deals with the outcome of multiple trials3. Bernoulli is used when the outcome of an event is required for only one time, whereas binomial is used when the outcome of an event is required multiple times."
   ]
  },
  {
   "cell_type": "code",
   "execution_count": null,
   "id": "afbaee7b-3b08-4d1c-bad6-b3940d07548f",
   "metadata": {},
   "outputs": [],
   "source": [
    "#6-\n",
    "# To answer this question, we need to use the formula for the normal probability distribution1 for a random variable x with mean μ and standard deviation σ:\n",
    "# f(x)=2πσ2​1​e−2σ2(x−μ)2​\n",
    "\n",
    "# In this case, we have μ = 50 and σ = 10. We want to find the probability that x > 60, which is equivalent to finding the area under the curve to the right of 60. To do this, we need to use a standard normal distribution table or a calculator that can compute the cumulative distribution function (CDF) of the normal distribution. The CDF gives the probability that x is less than or equal to a given value.\n",
    " # One way to find the CDF is to standardize the value of x by subtracting the mean and dividing by the standard deviation. This gives us a standard normal variable z with mean 0 and standard deviation 1:\n",
    "# z=σx−μ​\n",
    "# In this case, we have z = (60 - 50) / 10 = 1. We can then look up the value of z in a standard normal distribution table or use a calculator to find the CDF. For example, using this online calculator, we get:\n",
    "# P(z≤1)=0.8413\n",
    "This means that the probability that x is less than or equal to 60 is 0.8413. To find the probability that x is greater than 60, we need to subtract this from 1:\n",
    "P(x>60)=1−P(x≤60)=1−P(z≤1)=1−0.8413=0.1587\n",
    "Therefore, the probability that a randomly selected observation will be greater than 60 is 0.1587."
   ]
  }
 ],
 "metadata": {
  "kernelspec": {
   "display_name": "Python 3 (ipykernel)",
   "language": "python",
   "name": "python3"
  },
  "language_info": {
   "codemirror_mode": {
    "name": "ipython",
    "version": 3
   },
   "file_extension": ".py",
   "mimetype": "text/x-python",
   "name": "python",
   "nbconvert_exporter": "python",
   "pygments_lexer": "ipython3",
   "version": "3.10.8"
  }
 },
 "nbformat": 4,
 "nbformat_minor": 5
}
