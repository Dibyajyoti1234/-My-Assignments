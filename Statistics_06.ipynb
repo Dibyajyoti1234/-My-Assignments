{
 "cells": [
  {
   "cell_type": "code",
   "execution_count": null,
   "id": "e0bde994-a6ff-49b5-894d-a86be3ccb343",
   "metadata": {},
   "outputs": [],
   "source": [
    "#1\n",
    "A t-test is used when the population standard deviation is unknown and must be estimated from the sample data. The t-test assumes that the sample is normally distributed. On the other hand, a z-test is used when the population mean and the standard deviation are known, and it assumes that the population is normally distributed"
   ]
  },
  {
   "cell_type": "code",
   "execution_count": null,
   "id": "d149bb0c-7b1c-4d31-b2b0-d203ef91bdc7",
   "metadata": {},
   "outputs": [],
   "source": [
    "#2\n",
    "A one-tailed test is used when you want to test for a difference in one direction only.\n",
    "\n",
    "On the other hand, a two-tailed test is used when you want to test for a difference in two directions."
   ]
  },
  {
   "cell_type": "code",
   "execution_count": null,
   "id": "326d2af2-c60c-4ba4-9f9d-ed827d328d4b",
   "metadata": {},
   "outputs": [],
   "source": [
    "#3\n",
    "In hypothesis testing, a Type I error occurs when you reject a null hypothesis that is actually true. This is also known as a false positive. For example, suppose you want to test whether a new drug reduces blood pressure. You would make a Type I error if you conclude that the drug reduces blood pressure when it actually doesn’t\n",
    "On the other hand, a Type II error occurs when you fail to reject a null hypothesis that is actually false. This is also known as a false negative. For example, suppose you want to test whether a new drug reduces blood pressure. You would make a Type II error if you conclude that the drug doesn’t reduce blood pressure when it actually does"
   ]
  },
  {
   "cell_type": "code",
   "execution_count": null,
   "id": "7b277253-8f43-4666-897d-653d8ae7a164",
   "metadata": {},
   "outputs": [],
   "source": [
    "#4\n",
    "Bayes’ theorem is a mathematical formula that describes the probability of an event based on prior knowledge of conditions that might be related to the event.\n",
    "The formula for Bayes’ theorem is:\n",
    "\n",
    "P(A|B) = P(B|A) * P(A) / P(B)"
   ]
  },
  {
   "cell_type": "code",
   "execution_count": null,
   "id": "d5bb36f3-c59b-4c6f-a277-6a472dc4519b",
   "metadata": {},
   "outputs": [],
   "source": [
    "#5\n",
    "A confidence interval is a range of values that is likely to contain the true value of an unknown population parameter with a certain level of confidence. It is often used in statistics to estimate the precision of sample estimates.\n",
    "For example, suppose you want to estimate the average height of all people in a city. You take a random sample of 100 people and find that the average height is 5’8\". You can use a confidence interval to estimate the range of heights that is likely to contain the true average height of all people in the city with a certain level of confidence (e.g., 95%).\n",
    "\n",
    "To calculate the confidence interval, you need to know the sample mean, sample size, standard deviation (or standard error), and the desired level of confidence. The formula for calculating a confidence interval for the population mean is:\n",
    "\n",
    "CI = X̄ ± Zα/2 * σ/√n"
   ]
  },
  {
   "cell_type": "code",
   "execution_count": null,
   "id": "49b16492-8fb3-4287-9834-d7a05767fd9d",
   "metadata": {},
   "outputs": [],
   "source": [
    "#7\n",
    "The 95% confidence interval for a sample of data with a mean of 50 and a standard deviation of 5 is [47.5, 52.5]. This means that we can say with 95% confidence that the true population mean falls between 47.5 and 52.5.\n",
    "\n",
    "\n"
   ]
  },
  {
   "cell_type": "code",
   "execution_count": null,
   "id": "5d13908d-84a8-4648-9506-3cfbefb1654f",
   "metadata": {},
   "outputs": [],
   "source": [
    "#8\n",
    "The margin of error is the range of values above and below the sample statistic that is likely to contain the true population parameter with a certain level of confidence. It is calculated as the product of the critical value from the standard normal distribution (or t-distribution) and the standard error of the sample statistic.\n",
    "\n",
    "The margin of error decreases as the sample size increases because larger samples provide more precise estimates of the population parameter. This is because larger samples have less sampling error (i.e., random variation) than smaller samples.\n"
   ]
  },
  {
   "cell_type": "code",
   "execution_count": null,
   "id": "37498335-9af7-4c86-8f25-162a8fbd3197",
   "metadata": {},
   "outputs": [],
   "source": [
    "#9\n",
    "The z-score for a data point with a value of 75, a population mean of 70, and a population standard deviation of 5 is 1. This means that the data point is one standard deviation above the mean.\n"
   ]
  },
  {
   "cell_type": "code",
   "execution_count": null,
   "id": "0e19c3a3-0d23-446f-8dba-c89aae591cb9",
   "metadata": {},
   "outputs": [],
   "source": [
    "#10\n",
    "Determine the level of significance (α) and the degrees of freedom (df). Since we are using a 95% confidence level, α = 0.05. The degrees of freedom are n - 1 = 49.\n",
    "\n",
    "Calculate the test statistic (t) using the formula:\n",
    "\n",
    "t = (x̄ - μ) / (s / √n)\n",
    "\n",
    "where x̄ is the sample mean, μ is the population mean under the null hypothesis, s is the sample standard deviation, and n is the sample size.\n",
    "\n",
    "In this case:\n",
    "\n",
    "x̄ = 6 μ = 0 s = 2.5 n = 50\n",
    "\n",
    "t = (6 - 0) / (2.5 / √50) = 15.49\n",
    "Determine the critical value(s) from the t-distribution table using α and df. Since we are using a two-tailed test, we need to find two critical values: one for α/2 in the left tail and one for α/2 in the right tail.\n",
    "The critical value for α/2 = 0.025 and df = 49 is ±2.01.\n",
    "\n",
    "Compare the test statistic to the critical value(s) to determine whether to reject or fail to reject H0.\n",
    "Since |t| > 2.01, we reject H0 at a 95% confidence level and conclude that the drug is significantly effective.\n",
    "\n"
   ]
  },
  {
   "cell_type": "code",
   "execution_count": null,
   "id": "072565f2-06a0-4b45-84b3-4cf4e7620026",
   "metadata": {},
   "outputs": [],
   "source": [
    "#11\n",
    "The 95% confidence interval for the true proportion of people who are satisfied with their job is [0.61, 0.69]."
   ]
  },
  {
   "cell_type": "code",
   "execution_count": null,
   "id": "3894752d-b8c5-4c0b-9453-9955eb83bd2f",
   "metadata": {},
   "outputs": [],
   "source": [
    "#13\n",
    "The 90% confidence interval for the true population mean is [58.2, 61.8]."
   ]
  },
  {
   "cell_type": "code",
   "execution_count": null,
   "id": "c1b89f16-dccc-4d48-9bba-64b4b7161c44",
   "metadata": {},
   "outputs": [],
   "source": [
    "#14\n",
    "State the null hypothesis (H0) and the alternative hypothesis (Ha). In this case, the null hypothesis is that caffeine has no significant effect on reaction time (μ = 0), and the alternative hypothesis is that caffeine has a significant effect on reaction time (μ ≠ 0).\n",
    "\n",
    "Determine the level of significance (α) and the degrees of freedom (df). Since we are using a 90% confidence level, α = 0.1. The degrees of freedom are n - 1 = 29.\n",
    "\n",
    "Calculate the test statistic (t) using the formula:\n",
    "\n",
    "t = (x̄ - μ) / (s / √n)\n",
    "\n",
    "where x̄ is the sample mean, μ is the population mean under the null hypothesis, s is the sample standard deviation, and n is the sample size.\n",
    "\n",
    "In this case:\n",
    "\n",
    "x̄ = 0.25 μ = 0 s = 0.05 n = 30\n",
    "\n",
    "t = (0.25 - 0) / (0.05 / √30) ≈ 10.95\n",
    "\n",
    "Determine the critical value(s) from the t-distribution table using α and df.\n",
    "The critical value for α/2 = 0.05 and df = 29 is ±1.699.\n",
    "\n",
    "Compare the test statistic to the critical value(s) to determine whether to reject or fail to reject H0.\n",
    "Since |t| > 1.699, we reject H0 at a significance level of 0.1 and conclude that caffeine has a significant effect on reaction time.\n"
   ]
  }
 ],
 "metadata": {
  "kernelspec": {
   "display_name": "Python 3 (ipykernel)",
   "language": "python",
   "name": "python3"
  },
  "language_info": {
   "codemirror_mode": {
    "name": "ipython",
    "version": 3
   },
   "file_extension": ".py",
   "mimetype": "text/x-python",
   "name": "python",
   "nbconvert_exporter": "python",
   "pygments_lexer": "ipython3",
   "version": "3.10.8"
  }
 },
 "nbformat": 4,
 "nbformat_minor": 5
}
