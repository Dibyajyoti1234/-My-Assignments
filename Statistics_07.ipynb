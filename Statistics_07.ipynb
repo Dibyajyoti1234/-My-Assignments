{
 "cells": [
  {
   "cell_type": "code",
   "execution_count": null,
   "id": "92f61045-0176-4e57-b59a-414d40da5745",
   "metadata": {},
   "outputs": [],
   "source": [
    "#1\n",
    "mport numpy as np\n",
    "import scipy.stats as stats\n",
    "\n",
    "sample_size = 100\n",
    "sample_mean = 50\n",
    "sample_std_dev = 5\n",
    "confidence_level = 0.95\n",
    "\n",
    "t_value = stats.t.ppf((1 + confidence_level) / 2, sample_size - 1)\n",
    "margin_of_error = t_value * sample_std_dev / np.sqrt(sample_size)\n",
    "\n",
    "lower_bound = sample_mean - margin_of_error\n",
    "upper_bound = sample_mean + margin_of_error\n",
    "\n",
    "print(f\"Confidence interval: [{lower_bound:.2f}, {upper_bound:.2f}]\")"
   ]
  },
  {
   "cell_type": "code",
   "execution_count": null,
   "id": "4eeb1919-5117-499c-8820-110662e00087",
   "metadata": {},
   "outputs": [],
   "source": [
    "#2\n",
    "import numpy as np\n",
    "from scipy.stats import chisquare\n",
    "\n",
    "observed = np.array([24, 16, 22, 12, 11, 15])\n",
    "expected = np.array([30, 30, 30, 15, 15, 30])\n",
    "\n",
    "chi2_statistic, p_value = chisquare(observed, expected)\n",
    "\n",
    "print(f\"Chi-square statistic: {chi2_statistic:.2f}\")\n",
    "print(f\"P-value: {p_value:.4f}\")"
   ]
  },
  {
   "cell_type": "code",
   "execution_count": null,
   "id": "fc724026-3d71-4dae-a24f-845a00abfdad",
   "metadata": {},
   "outputs": [],
   "source": [
    "#4\n",
    "import math\n",
    "\n",
    "p = 60/500 \n",
    "n = 500 \n",
    "z = 1.96 \n",
    "\n",
    "std_error = math.sqrt(p*(1-p)/n)\n",
    "margin_of_error = z*std_error\n",
    "\n",
    "lower_bound = p - margin_of_error\n",
    "upper_bound = p + margin_of_error\n",
    "\n",
    "print(f\"95% Confidence Interval: [{lower_bound:.3f}, {upper_bound:.3f}]\")\n"
   ]
  },
  {
   "cell_type": "code",
   "execution_count": null,
   "id": "1c00f49a-39f0-421d-b7d5-b0848f8657d1",
   "metadata": {},
   "outputs": [],
   "source": [
    "#5\n",
    "import math\n",
    "\n",
    "mean = 75\n",
    "std_dev = 12\n",
    "n = 1 # sample size\n",
    "z = 1.645 # z-critical value for a 90% confidence interval\n",
    "\n",
    "std_error = std_dev / math.sqrt(n)\n",
    "margin_of_error = z * std_error\n",
    "\n",
    "lower_bound = mean - margin_of_error\n",
    "upper_bound = mean + margin_of_error\n",
    "\n",
    "print(f\"90% Confidence Interval: [{lower_bound:.3f}, {upper_bound:.3f}]\")"
   ]
  },
  {
   "cell_type": "code",
   "execution_count": null,
   "id": "daa97dfd-326e-46d4-ae3d-74e6d9cd3208",
   "metadata": {},
   "outputs": [],
   "source": [
    "#6\n",
    "import numpy as np\n",
    "import matplotlib.pyplot as plt\n",
    "from scipy.stats import chi2\n",
    "\n",
    "df = 10 # degrees of freedom\n",
    "\n",
    "x = np.linspace(0, 30, 300)\n",
    "y = chi2.pdf(x, df)\n",
    "\n",
    "plt.plot(x, y)\n",
    "\n",
    "plt.fill_between(x[x>=15], y[x>=15], color='red', alpha=0.5)\n",
    "\n",
    "plt.xlabel('Chi-Square Statistic')\n",
    "plt.ylabel('Probability Density')\n",
    "plt.title('Chi-Square Distribution with 10 Degrees of Freedom')\n",
    "\n",
    "plt.show()"
   ]
  },
  {
   "cell_type": "code",
   "execution_count": null,
   "id": "09eb7a03-98e4-4e08-ab01-6849c2b771c1",
   "metadata": {},
   "outputs": [],
   "source": [
    "#7\n",
    "To calculate the 99% confidence interval for the true proportion of people in the population who prefer Coke given a sample of 520 out of 1000 people, you can use the following formula:\n",
    "\n",
    "Confidence interval = p +/- z* (√ p (1-p)/n)\n",
    "\n",
    "where: p: sample proportion z: the z-critical value based on the confidence level n: sample size\n",
    "\n",
    "In this case, we have a sample size of 1000 and 520 individuals prefer Coke. Therefore, the sample proportion is 520/1000 = 0.52.\n",
    "\n",
    "The z-critical value for a 99% confidence interval is 2.576.\n",
    "\n",
    "Plugging in these values into the formula above, we get:\n",
    "\n",
    "Confidence interval = 0.52 +/- 2.576* (√ 0.52 (1-0.52)/1000)\n",
    "\n",
    "Confidence interval = [0.482, 0.558\n"
   ]
  },
  {
   "cell_type": "code",
   "execution_count": null,
   "id": "83a782c9-7a67-4bf2-8514-438d3fd0cb81",
   "metadata": {},
   "outputs": [],
   "source": [
    "#8\n"
   ]
  },
  {
   "cell_type": "code",
   "execution_count": null,
   "id": "6d73afed-8f72-4a6f-8888-43c764cea37e",
   "metadata": {},
   "outputs": [],
   "source": []
  }
 ],
 "metadata": {
  "kernelspec": {
   "display_name": "Python 3 (ipykernel)",
   "language": "python",
   "name": "python3"
  },
  "language_info": {
   "codemirror_mode": {
    "name": "ipython",
    "version": 3
   },
   "file_extension": ".py",
   "mimetype": "text/x-python",
   "name": "python",
   "nbconvert_exporter": "python",
   "pygments_lexer": "ipython3",
   "version": "3.10.8"
  }
 },
 "nbformat": 4,
 "nbformat_minor": 5
}
