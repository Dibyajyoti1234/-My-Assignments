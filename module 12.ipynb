{
 "cells": [
  {
   "cell_type": "code",
   "execution_count": null,
   "id": "65b8ddc9-77a7-433b-b954-a2948bfbe331",
   "metadata": {},
   "outputs": [],
   "source": [
    "#1\n",
    "Class:\n",
    "A class is a blueprint or a template for creating objects.\n",
    "It defines the structure and behavior of objects of a particular type.\n",
    "Think of a class as a set of instructions that describe how an object should be created and what it can do.\n",
    "\n",
    "Object:\n",
    "An object is an instance of a class.\n",
    "It is a concrete realization of the class blueprint.\n",
    "Objects have state (values of attributes) and can perform actions (invoking methods).\n",
    "When you create an object, memory is allocated to store its data.\n",
    "\n",
    "class Car:\n",
    "    def __init__(self, brand, model, color):\n",
    "        self.brand = brand\n",
    "        self.model = model\n",
    "        self.color = color\n",
    "\n",
    "    def start_engine(self):\n",
    "        print(f\"{self.brand} {self.model}'s engine is running.\")\n",
    "\n",
    "\n",
    "my_car = Car(brand=\"Toyota\", model=\"Camry\", color=\"Red\")\n",
    "friend_car = Car(brand=\"Honda\", model=\"Civic\", color=\"Blue\")\n",
    "\n",
    "\n",
    "my_car.start_engine()  \n",
    "friend_car.start_engine()  \n"
   ]
  },
  {
   "cell_type": "code",
   "execution_count": null,
   "id": "206e34f8-ab63-4cda-b037-d6f594a9018c",
   "metadata": {},
   "outputs": [],
   "source": [
    "#2\n",
    "i. Encapsulation\n",
    "ii. Abstraction\n",
    "iii. Inheritance\n",
    "iv.Polymerphisim"
   ]
  },
  {
   "cell_type": "code",
   "execution_count": null,
   "id": "7a009763-c2ac-4ca9-bb0c-4fae50e8bc0f",
   "metadata": {},
   "outputs": [],
   "source": [
    "#3\n",
    "The __init__() function, also known as the constructor, is a special method in Python classes. It is automatically called when an object of the class is created.\n",
    "class Person:\n",
    "    def __init__(self, name, age):\n",
    "        # Initialize attributes\n",
    "        self.name = name\n",
    "        self.age = age\n",
    "\n",
    "    def introduce(self):\n",
    "        print(f\"Hi, I'm {self.name} and I'm {self.age} years old.\")\n",
    "person1 = Person(name=\"Alice\", age=30)\n",
    "person2 = Person(name=\"Bob\", age=25)\n",
    "\n",
    "\n",
    "person1.introduce()  \n",
    "person2.introduce()  \n",
    "\n"
   ]
  },
  {
   "cell_type": "code",
   "execution_count": null,
   "id": "adde37fd-f33b-4c6f-a5e4-37650c304546",
   "metadata": {},
   "outputs": [],
   "source": [
    "#4\n",
    "In Object-Oriented Programming (OOP), the self keyword is used to refer to the current instance of a class.\n",
    "\n",
    "Purpose of self:\n",
    "self represents the instance of the class.\n",
    "It allows you to access the attributes and methods of an object within its own scope.\n",
    "When you create an object from a class, self refers to that specific instance."
   ]
  },
  {
   "cell_type": "code",
   "execution_count": null,
   "id": "ed63d19d-22f6-4c42-bd5b-ba4c3bb08b03",
   "metadata": {},
   "outputs": [],
   "source": [
    "#5\n"
   ]
  }
 ],
 "metadata": {
  "kernelspec": {
   "display_name": "Python 3 (ipykernel)",
   "language": "python",
   "name": "python3"
  },
  "language_info": {
   "codemirror_mode": {
    "name": "ipython",
    "version": 3
   },
   "file_extension": ".py",
   "mimetype": "text/x-python",
   "name": "python",
   "nbconvert_exporter": "python",
   "pygments_lexer": "ipython3",
   "version": "3.10.8"
  }
 },
 "nbformat": 4,
 "nbformat_minor": 5
}
