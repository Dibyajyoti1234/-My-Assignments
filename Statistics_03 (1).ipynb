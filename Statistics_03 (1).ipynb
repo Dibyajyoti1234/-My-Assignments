{
 "cells": [
  {
   "cell_type": "code",
   "execution_count": 1,
   "id": "8936d6af-a8b2-49da-82ee-1108cd149d62",
   "metadata": {},
   "outputs": [],
   "source": [
    "# 1- a probability density function (PDF) is used to define the random variable’s probability coming within a distinct range of values, as opposed to taking on any one value"
   ]
  },
  {
   "cell_type": "code",
   "execution_count": null,
   "id": "c1d3deca-570a-4f3e-b562-7ce38cf2b700",
   "metadata": {},
   "outputs": [],
   "source": [
    "# 2- Binomial distribution\n",
    "#i- Poisson distribution\n",
    "#ii-Uniform distribution\n",
    "#iii-Normal distribution\n",
    "#iv-Chi-square distribution\n",
    "#v-Student’s t distribution\n",
    "#vi-F distribution"
   ]
  },
  {
   "cell_type": "code",
   "execution_count": 2,
   "id": "586da011-02b3-4094-8cf5-851e78e7676d",
   "metadata": {},
   "outputs": [],
   "source": [
    "#3\n",
    "import math\n",
    "\n",
    "def normpdf(x, mean, sd):\n",
    "    var = float(sd)**2\n",
    "    denom = (2*math.pi*var)**.5\n",
    "    num = math.exp(-(float(x)-float(mean))**2/(2*var))\n",
    "    return num/denom\n"
   ]
  },
  {
   "cell_type": "code",
   "execution_count": 4,
   "id": "972b2c95-cb3a-4e98-9b8a-c7e496f23fba",
   "metadata": {},
   "outputs": [],
   "source": [
    "#4- the properties of the binomial distribution are:\n",
    "\n",
    "#There are two possible outcomes: true or false, success or failure, yes or no.\n",
    "#There is ‘n’ number of independent trials or a fixed number of n times repeated trials.\n",
    "#The probability of success or failure remains the same for each trial.\n",
    "#Only the outcomes of interest are counted 1.\n",
    "#Two examples of events where binomial distribution can be applied are:\n",
    "\n",
    "#A survey of positive and negative reviews from the public for any specific product or place.\n",
    "#Finding the quantity of raw and used materials while making a product 1."
   ]
  },
  {
   "cell_type": "code",
   "execution_count": 5,
   "id": "5785fef8-1947-4b50-9137-a341022d7808",
   "metadata": {},
   "outputs": [
    {
     "data": {
      "image/png": "[encoded data removed]",
      "text/plain": [
       "<Figure size 640x480 with 1 Axes>"
      ]
     },
     "metadata": {},
     "output_type": "display_data"
    }
   ],
   "source": [
    "#5-\n",
    "import numpy as np\n",
    "import matplotlib.pyplot as plt\n",
    "\n",
    "n = 1000\n",
    "p = 0.4\n",
    "\n",
    "sample = np.random.binomial(n, p, size=1000)\n",
    "\n",
    "plt.hist(sample)\n",
    "plt.show()"
   ]
  },
  {
   "cell_type": "code",
   "execution_count": 6,
   "id": "47de2f11-0a5f-44b0-9f46-6c7d621ebf55",
   "metadata": {},
   "outputs": [],
   "source": [
    "#6-\n",
    "from scipy.stats import poisson\n",
    "\n",
    "def poisson_cdf(x, mu):\n",
    "    return poisson.cdf(x, mu)\n"
   ]
  },
  {
   "cell_type": "code",
   "execution_count": 7,
   "id": "18eac14a-a730-451c-ba13-7038f38ebaac",
   "metadata": {},
   "outputs": [],
   "source": [
    "#7-\n",
    "# Binomial distribution is used when there are a fixed number of trials with two possible outcomes, while Poisson distribution is used when there are an unlimited number of trials with one possible outcome.\n",
    "#Binomial distribution has two parameters (n and p), while Poisson distribution has only one parameter (m).\n",
    "#Poisson distribution is a limiting case of binomial distribution when n is large and p is small."
   ]
  },
  {
   "cell_type": "code",
   "execution_count": 8,
   "id": "dc74f52c-26d5-4229-a7e5-d21838262768",
   "metadata": {},
   "outputs": [
    {
     "name": "stdout",
     "output_type": "stream",
     "text": [
      "Sample mean: 5.144\n",
      "Sample variance: 4.943264\n"
     ]
    }
   ],
   "source": [
    "#8-\n",
    "import numpy as np\n",
    "\n",
    "sample = np.random.poisson(lam=5, size=1000)\n",
    "sample_mean = np.mean(sample)\n",
    "sample_var = np.var(sample)\n",
    "\n",
    "print(\"Sample mean:\", sample_mean)\n",
    "print(\"Sample variance:\", sample_var)\n",
    "\n"
   ]
  },
  {
   "cell_type": "code",
   "execution_count": 9,
   "id": "64daf29f-8156-49ce-a61e-b9da81bac644",
   "metadata": {},
   "outputs": [],
   "source": [
    "#9-\n",
    "#In a binomial distribution, the mean is equal to np and the variance is equal to np(1-p) 1. In a Poisson distribution, the mean is equal to the variance"
   ]
  },
  {
   "cell_type": "code",
   "execution_count": null,
   "id": "ef6bdfd0-79eb-4e61-93d7-a13831afaaef",
   "metadata": {},
   "outputs": [],
   "source": [
    "#10-\n",
    "In a normal distribution, the data is symmetric from the peak of the curve, where the mean is. This means that most of the observed data is clustered near the mean, while the data become less frequent when farther away from the mean ¹. Therefore, the least frequent data appears at the tails of the distribution.\n",
    "\n",
    "I hope this helps! Let me know if you have any other questions.\n",
    "\n",
    "Source: Conversation with Bing, 29/7/2023\n",
    "(1) Normal Distribution - Overview, Parameters, and Properties. https://corporatefinanceinstitute.com/resources/data-science/normal-distribution/.\n",
    "(2) Normal Distribution Questions and Answers - Sanfoundry. https://www.sanfoundry.com/probability-statistics-questions-answers-normal-distribution/.\n",
    "(3) Normal Distribution MCQ [Free PDF] - Objective Question Answer for .... https://testbook.com/objective-questions/mcq-on-normal-distribution--5eea6a0a39140f30f369dc61.\n",
    "(4) Normal Distribution - Math is Fun. https://www.mathsisfun.com/data/standard-normal-distribution.html."
   ]
  }
 ],
 "metadata": {
  "kernelspec": {
   "display_name": "Python 3 (ipykernel)",
   "language": "python",
   "name": "python3"
  },
  "language_info": {
   "codemirror_mode": {
    "name": "ipython",
    "version": 3
   },
   "file_extension": ".py",
   "mimetype": "text/x-python",
   "name": "python",
   "nbconvert_exporter": "python",
   "pygments_lexer": "ipython3",
   "version": "3.10.8"
  }
 },
 "nbformat": 4,
 "nbformat_minor": 5
}
