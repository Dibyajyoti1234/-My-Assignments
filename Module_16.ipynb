{
 "cells": [
  {
   "cell_type": "code",
   "execution_count": 1,
   "id": "7757ca8f-3521-4842-946e-1031870e5eac",
   "metadata": {},
   "outputs": [
    {
     "name": "stdout",
     "output_type": "stream",
     "text": [
      "Invalid Password\n",
      "Invalid Password\n",
      "Invalid Password\n",
      "Invalid Password\n"
     ]
    }
   ],
   "source": [
    "#1\n",
    "def validate_password(password):\n",
    "    \"\"\"\n",
    "    Validates a password based on the given guidelines.\n",
    "    Returns \"Valid Password\" if valid, otherwise \"Invalid Password\".\n",
    "    \"\"\"\n",
    "   \n",
    "    if len(password) != 10:\n",
    "        return \"Invalid Password\"\n",
    "\n",
    "   \n",
    "    uppercase_count = sum(1 for char in password if char.isupper())\n",
    "    lowercase_count = sum(1 for char in password if char.islower())\n",
    "\n",
    "    \n",
    "    if uppercase_count < 2 or lowercase_count < 2:\n",
    "        return \"Invalid Password\"\n",
    "\n",
    "   \n",
    "    if not any(char.isdigit() for char in password):\n",
    "        return \"Invalid Password\"\n",
    "\n",
    "    \n",
    "    special_chars = re.findall(r'[!@#$%^&*()_+={}\\\\[\\\\]:;<>,.?~]', password)\n",
    "    if len(special_chars) < 3:\n",
    "        return \"Invalid Password\"\n",
    "\n",
    "\n",
    "    return \"Valid Password\"\n",
    "\n",
    "# Example passwords\n",
    "password1 = \"Abc123!@#$\"\n",
    "password2 = \"Abcdefghij\"\n",
    "password3 = \"AaBbCcDdEe\"\n",
    "password4 = \"Abc1234567\"\n",
    "\n",
    "print(validate_password(password1))  \n",
    "print(validate_password(password2))  \n",
    "print(validate_password(password3))  \n",
    "print(validate_password(password4))  \n"
   ]
  },
  {
   "cell_type": "code",
   "execution_count": null,
   "id": "273ff160-f49b-4104-937b-51ed9414cc9a",
   "metadata": {},
   "outputs": [],
   "source": [
    "#2\n"
   ]
  }
 ],
 "metadata": {
  "kernelspec": {
   "display_name": "Python 3 (ipykernel)",
   "language": "python",
   "name": "python3"
  },
  "language_info": {
   "codemirror_mode": {
    "name": "ipython",
    "version": 3
   },
   "file_extension": ".py",
   "mimetype": "text/x-python",
   "name": "python",
   "nbconvert_exporter": "python",
   "pygments_lexer": "ipython3",
   "version": "3.10.8"
  }
 },
 "nbformat": 4,
 "nbformat_minor": 5
}
