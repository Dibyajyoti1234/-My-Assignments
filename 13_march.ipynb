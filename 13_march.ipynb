{
 "cells": [
  {
   "cell_type": "code",
   "execution_count": null,
   "id": "baf86714-ee66-4b39-a6b0-5e94786920cc",
   "metadata": {},
   "outputs": [],
   "source": [
    "#1\n",
    " The responses for each factor level have a normal population distribution.\n",
    "These distributions have the same variance.\n",
    "The data are independent."
   ]
  },
  {
   "cell_type": "code",
   "execution_count": null,
   "id": "4df6104e-e89e-4b34-a93f-4be8a8603cc9",
   "metadata": {},
   "outputs": [],
   "source": [
    "#2\n",
    "One-way ANOVA: This type of ANOVA is used when there is only one independent variable (factor) with two or more levels. It is used to test whether there are any significant differences between the means of the groups.\n",
    "two-way ANOVA: This type of ANOVA is used when there are two independent variables (factors) with two or more levels. It is used to test whether there are any significant main effects or interactions between the two factors.\n",
    "N-way ANOVA: This type of ANOVA is used when there are more than two independent variables (factors) with two or more levels. It is used to test whether there are any significant main effects or interactions between the factors. "
   ]
  },
  {
   "cell_type": "code",
   "execution_count": null,
   "id": "8c901c60-3145-4449-9f1a-4fdfb57be2a6",
   "metadata": {},
   "outputs": [],
   "source": [
    "#3\n",
    "The partitioning of variance in ANOVA is a method of breaking down the total variance of a dataset into different components that can be attributed to specific sources of variation"
   ]
  },
  {
   "cell_type": "code",
   "execution_count": null,
   "id": "c89531f2-0759-430c-bfdf-537c4308c763",
   "metadata": {},
   "outputs": [],
   "source": [
    "#4\n",
    "import pandas as pd\n",
    "import statsmodels.api as sm\n",
    "from statsmodels.formula.api import ols\n",
    "data = pd.read_csv('data.csv')\n",
    "model = ols('y ~ group', data=data).fit()\n",
    "ssr = model.ess\n",
    "sse = model.ssr\n",
    "sst = sse + ssr\n",
    "\n",
    "print(f'SSR: {ssr:.2f}')\n",
    "print(f'SSE: {sse:.2f}')\n",
    "print(f'SST: {sst:.2f}')"
   ]
  },
  {
   "cell_type": "code",
   "execution_count": null,
   "id": "9581cb29-6664-4848-9a85-ad34f1d5147f",
   "metadata": {},
   "outputs": [],
   "source": [
    "#5\n",
    "import pandas as pd\n",
    "import statsmodels.api as sm\n",
    "from statsmodels.formula.api import ols\n",
    "data = pd.read_csv('data.csv')\n",
    "model = ols('y ~ A + B + A:B', data=data).fit()\n",
    "main_effects = model.params[['A', 'B']]\n",
    "interaction_effect = model.params['A:B']\n",
    "\n",
    "print(f'Main effects: {main_effects}')\n",
    "print(f'Interaction effect: {interaction_effect:.2f}')\n"
   ]
  },
  {
   "cell_type": "code",
   "execution_count": null,
   "id": "272c7025-0d03-407a-a315-171d6c8be48c",
   "metadata": {},
   "outputs": [],
   "source": [
    "#6\n"
   ]
  },
  {
   "cell_type": "code",
   "execution_count": null,
   "id": "2ec4b2c5-bbb7-4abe-a563-e489b03f5a24",
   "metadata": {},
   "outputs": [],
   "source": []
  },
  {
   "cell_type": "code",
   "execution_count": null,
   "id": "108895b0-ae8a-460c-8b56-1708e364b692",
   "metadata": {},
   "outputs": [],
   "source": []
  },
  {
   "cell_type": "code",
   "execution_count": null,
   "id": "99d694cf-f51d-4952-bec9-f2599ddd0933",
   "metadata": {},
   "outputs": [],
   "source": []
  },
  {
   "cell_type": "code",
   "execution_count": null,
   "id": "fc3594ac-7e3d-40fc-b2f0-a47055ce1230",
   "metadata": {},
   "outputs": [],
   "source": []
  },
  {
   "cell_type": "code",
   "execution_count": null,
   "id": "a462d543-227e-4a5f-ad98-ff7ffa4963ca",
   "metadata": {},
   "outputs": [],
   "source": []
  },
  {
   "cell_type": "code",
   "execution_count": null,
   "id": "3eed52f6-d673-4b52-993c-c2bf5ed15a51",
   "metadata": {},
   "outputs": [],
   "source": []
  },
  {
   "cell_type": "code",
   "execution_count": null,
   "id": "2b7944ef-0022-40d7-a276-69bf67a71343",
   "metadata": {},
   "outputs": [],
   "source": []
  }
 ],
 "metadata": {
  "kernelspec": {
   "display_name": "Python 3 (ipykernel)",
   "language": "python",
   "name": "python3"
  },
  "language_info": {
   "codemirror_mode": {
    "name": "ipython",
    "version": 3
   },
   "file_extension": ".py",
   "mimetype": "text/x-python",
   "name": "python",
   "nbconvert_exporter": "python",
   "pygments_lexer": "ipython3",
   "version": "3.10.8"
  }
 },
 "nbformat": 4,
 "nbformat_minor": 5
}
