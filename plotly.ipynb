{
 "cells": [
  {
   "cell_type": "code",
   "execution_count": null,
   "id": "9415244c-9a7f-49ec-9251-2cb5b71a8a07",
   "metadata": {},
   "outputs": [],
   "source": [
    "#1\n",
    "import seaborn as sns\n",
    "titanic = sns.load_dataset(\"titanic\")\n",
    "import plotly.express as px\n",
    "fig = px.scatter(titanic, x=\"age\", y=\"fare\")\n",
    "fig.show()"
   ]
  },
  {
   "cell_type": "code",
   "execution_count": null,
   "id": "776bc5f1-770c-47de-91e5-b5eae1cde9d5",
   "metadata": {},
   "outputs": [],
   "source": [
    "#2\n",
    "import plotly.express as px\n",
    "tips = px.data.tips()\n",
    "fig = px.box(tips, y=\"total_bill\")\n",
    "fig.show()"
   ]
  },
  {
   "cell_type": "code",
   "execution_count": null,
   "id": "b2791ae2-f80a-430a-99bd-c1bbe76a928b",
   "metadata": {},
   "outputs": [],
   "source": [
    "#3\n",
    "import plotly.express as px\n",
    "tips = px.data.tips()\n",
    "fig = px.histogram(tips, x=\"sex\", y=\"total_bill\", color=\"day\", pattern_shape=\"smoker\")\n",
    "fig.show()"
   ]
  },
  {
   "cell_type": "code",
   "execution_count": null,
   "id": "0d6add4b-83a9-453d-a6b7-097bb409f70b",
   "metadata": {},
   "outputs": [],
   "source": [
    "#4\n",
    "import plotly.express as px\n",
    "\n",
    "iris = px.data.iris()\n",
    "fig = px.scatter_matrix(iris, dimensions=[\"sepal_length\", \"sepal_width\", \"petal_length\", \"petal_width\"], color=\"species\")\n",
    "fig.show()"
   ]
  },
  {
   "cell_type": "code",
   "execution_count": null,
   "id": "4fd9274c-9c83-4534-93f2-2a1b3078d668",
   "metadata": {},
   "outputs": [],
   "source": [
    "#5\n",
    "import plotly.express as px\n",
    "\n",
    "tips = px.data.tips()\n",
    "fig = px.histogram(tips, x=\"total_bill\", y=\"tip\", color=\"sex\", marginal=\"rug\", hover_data=tips.columns)\n",
    "fig.show()"
   ]
  }
 ],
 "metadata": {
  "kernelspec": {
   "display_name": "Python 3 (ipykernel)",
   "language": "python",
   "name": "python3"
  },
  "language_info": {
   "codemirror_mode": {
    "name": "ipython",
    "version": 3
   },
   "file_extension": ".py",
   "mimetype": "text/x-python",
   "name": "python",
   "nbconvert_exporter": "python",
   "pygments_lexer": "ipython3",
   "version": "3.10.8"
  }
 },
 "nbformat": 4,
 "nbformat_minor": 5
}
