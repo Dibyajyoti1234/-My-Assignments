{
 "cells": [
  {
   "cell_type": "code",
   "execution_count": null,
   "id": "6e285592-4aea-4127-a14a-f40723bee5b9",
   "metadata": {},
   "outputs": [],
   "source": [
    "#1\n",
    "\n",
    "Abstraction is one of the fundamental concepts in Object-Oriented Programming (OOP). It involves hiding the internal details of an application from the outer world, allowing us to describe things in simpler terms. Abstraction creates a boundary between the application and client programs, making it easier to use and understand."
   ]
  },
  {
   "cell_type": "code",
   "execution_count": null,
   "id": "08438f1c-31a4-4960-885b-06d8ccb9140d",
   "metadata": {},
   "outputs": [],
   "source": []
  },
  {
   "cell_type": "code",
   "execution_count": null,
   "id": "725b9572-8b30-41a3-a91d-1312da80cf44",
   "metadata": {},
   "outputs": [],
   "source": []
  },
  {
   "cell_type": "code",
   "execution_count": null,
   "id": "e70a1079-7d43-44ee-9500-63230b4b8dcd",
   "metadata": {},
   "outputs": [],
   "source": [
    "#2\n",
    "Abstraction:\n",
    "    Abstraction focuses on what an object does rather than how it does it.\n",
    "    It allows us to represent essential features without revealing implementation details.\n",
    "    \n",
    "\n",
    "Encapsulation:\n",
    "    Encapsulation involves bundling data (variables) and methods (functions) that operate on that data into a single unit (class).\n",
    "    It provides a protective shield around the data, preventing direct access from outside the class.\n"
   ]
  },
  {
   "cell_type": "code",
   "execution_count": null,
   "id": "57a56675-ad94-46a8-92bb-b46bfa0502f8",
   "metadata": {},
   "outputs": [],
   "source": [
    "#3\n",
    "The abc module was introduced to Python based on PEP 3119 (Python Enhancement Proposal) to support the concept of abstract base classes.\n",
    "It allows developers to define abstract classes and interfaces, which serve as blueprints for other classes.\n",
    "Abstract base classes cannot be instantiated directly; they provide a common interface for their subclasses."
   ]
  },
  {
   "cell_type": "code",
   "execution_count": null,
   "id": "4708cded-0c0a-4907-8f8b-a7e1999c5d74",
   "metadata": {},
   "outputs": [],
   "source": [
    "#4\n"
   ]
  }
 ],
 "metadata": {
  "kernelspec": {
   "display_name": "Python 3 (ipykernel)",
   "language": "python",
   "name": "python3"
  },
  "language_info": {
   "codemirror_mode": {
    "name": "ipython",
    "version": 3
   },
   "file_extension": ".py",
   "mimetype": "text/x-python",
   "name": "python",
   "nbconvert_exporter": "python",
   "pygments_lexer": "ipython3",
   "version": "3.10.8"
  }
 },
 "nbformat": 4,
 "nbformat_minor": 5
}
