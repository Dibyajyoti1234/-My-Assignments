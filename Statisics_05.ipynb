{
 "cells": [
  {
   "cell_type": "code",
   "execution_count": 1,
   "id": "973e0673-aaf8-47a4-8796-be4472cb226b",
   "metadata": {},
   "outputs": [],
   "source": [
    "#1-\n",
    " Estimation statistics is a branch of statistics that deals with estimating the values of unknown parameters based on observed data. A point estimate is a single value that represents the best guess of a parameter, such as the sample mean. An interval estimate is a range of values that contains the parameter with a certain level of confidence, such as the confidence interval123"
   ]
  },
  {
   "cell_type": "code",
   "execution_count": null,
   "id": "400ac71a-ad06-4e2f-9d1b-f23d0b6993e9",
   "metadata": {},
   "outputs": [],
   "source": [
    "#2\n",
    "def estimate_population_mean(sample_mean, sample_std, sample_size, confidence_level):\n",
    "import scipy.stats as stats\n",
    "margin_of_error = stats.t.ppf((1 + confidence_level) / 2, sample_size - 1) * (sample_std / (sample_size ** 0.5))\n",
    "lower_bound = sample_mean - margin_of_error\n",
    "upper_bound = sample_mean + margin_of_error\n",
    "return (lower_bound, upper_bound)"
   ]
  },
  {
   "cell_type": "code",
   "execution_count": 3,
   "id": "50d3088b-9352-4a30-b162-c571efb715f7",
   "metadata": {},
   "outputs": [],
   "source": [
    "#3\n",
    "Hypothesis testing is a statistical method that helps researchers and analysts to test the validity of a claim or an assumption about a population parameter based on sample data1. It is used to make decisions or draw conclusions based on evidence and logic2. The importance of hypothesis testing is that it allows researchers to:\n",
    "\n",
    "Assess the accuracy of new ideas or theories by comparing them with data1.\n",
    "Avoid false claims or misleading results by using objective criteria and statistical tests1.\n",
    "Provide links to the underlying theory and specific research questions3.\n",
    "Measure the significance and effect size of the observed phenomenon"
   ]
  },
  {
   "cell_type": "code",
   "execution_count": 4,
   "id": "012b20d4-8d37-4fd9-b632-e2f585468cfb",
   "metadata": {},
   "outputs": [],
   "source": [
    "#4\n",
    "\n",
    "A possible hypothesis that states whether the average weight of male college students is greater than the average weight of female college students is:\n",
    "\n",
    "Null hypothesis (H0): The average weight of male college students is equal to the average weight of female college students. (H0: μm = μf)\n",
    "Alternative hypothesis (H1): The average weight of male college students is greater than the average weight of female college students. (H1: μm > μf)"
   ]
  },
  {
   "cell_type": "code",
   "execution_count": null,
   "id": "051fce02-fec6-48cc-8ac5-069fba920881",
   "metadata": {},
   "outputs": [],
   "source": [
    "#5\n",
    "Here is a possible Python script to conduct a hypothesis test on the difference between two population means, given a sample from each population. I assume that the samples are independent, normally distributed, and have equal variances. I also assume that the significance level is 0.05.\n",
    "\n",
    "Import the libraries\n",
    "import numpy as np import scipy.stats as stats\n",
    "\n",
    "Define the samples\n",
    "sample1 = np.array([10, 12, 15, 17, 18, 20, 22, 25]) sample2 = np.array([8, 9, 11, 13, 14, 16, 19, 21])\n",
    "\n",
    "Calculate the sample means and standard deviations\n",
    "mean1 = np.mean(sample1) mean2 = np.mean(sample2) std1 = np.std(sample1, ddof=1) std2 = np.std(sample2, ddof=1)\n",
    "\n",
    "Calculate the pooled standard deviation\n",
    "n1 = len(sample1) n2 = len(sample2) sp = np.sqrt(((n1-1)*std12 + (n2-1)*std22) / (n1+n2-2))\n",
    "\n",
    "Calculate the test statistic and the p-value\n",
    "t = (mean1 - mean2) / (sp * np.sqrt(1/n1 + 1/n2)) p = stats.t.sf(np.abs(t), df=n1+n2-2) * 2 # two-tailed p-value\n",
    "\n",
    "Print the results\n",
    "print(“Sample 1 mean:”, mean1) print(“Sample 2 mean:”, mean2) print(“Test statistic:”, t) print(“P-value:”, p)\n",
    "\n",
    "Compare the p-value with the significance level and make a decision\n",
    "if p < 0.05: print(“We reject the null hypothesis and conclude that there is a significant difference between the two population means.”) else: print(“We fail to reject the null hypothesis and conclude that there is no significant difference between the two population means.”)\n"
   ]
  },
  {
   "cell_type": "code",
   "execution_count": null,
   "id": "d97aff1d-6678-4e45-bedb-848eb50d05bb",
   "metadata": {},
   "outputs": [],
   "source": [
    "#6\n",
    "A null hypothesis is a statement that assumes there is no difference or no effect in the population of interest. It is usually denoted by H0. A null hypothesis represents the status quo or the default position that we want to test12.\n",
    "\n",
    "An alternative hypothesis is a statement that assumes there is some difference or some effect in the population of interest. It is usually denoted by Ha or H1. An alternative hypothesis represents the research question or the claim that we want to support12.\n",
    "\n",
    "Some examples of null and alternative hypotheses are:\n",
    "\n",
    "Example 1: A researcher wants to test whether a new drug lowers blood pressure. The null hypothesis is: H0: The drug has no effect on blood pressure. The alternative hypothesis is: Ha: The drug lowers blood pressure3.\n",
    "Example 2: A teacher wants to compare the performance of two groups of students who used different methods of studying. The null hypothesis is: H0: There is no difference in the mean scores of the two groups. The alternative hypothesis is: Ha: There is a difference in the mean scores of the two groups4."
   ]
  },
  {
   "cell_type": "code",
   "execution_count": null,
   "id": "ba1cac17-da75-44ff-9e79-a0fc431dca41",
   "metadata": {},
   "outputs": [],
   "source": [
    "#7\n",
    "Step 1: State the null and alternative hypotheses and identify the parameter of interest.\n",
    "Step 2: Choose a significance level (α) and a test statistic (such as t, z, F, etc.) based on the type of data and the assumptions of the test.\n",
    "Step 3: Collect the sample data and calculate the test statistic and the p-value using the appropriate formula or software tool.\n",
    "Step 4: Compare the p-value with the significance level and make a decision to reject or fail to reject the null hypothesis. Alternatively, compare the test statistic with the critical value and make a decision based on the rejection region.\n",
    "Step 5: Interpret the results in the context of the research question and draw a conclusion."
   ]
  },
  {
   "cell_type": "code",
   "execution_count": null,
   "id": "582a2193-497d-464b-815d-9e216c9a1f38",
   "metadata": {},
   "outputs": [],
   "source": [
    "#8\n",
    "A p-value is a statistical measure that quantifies the probability of obtaining the observed results, assuming that the null hypothesis is true12. A p-value helps to determine if the observed difference or effect is statistically significant or due to chance"
   ]
  },
  {
   "cell_type": "code",
   "execution_count": null,
   "id": "9e20614b-2dc8-4d73-a3af-6e3d3a5138b4",
   "metadata": {},
   "outputs": [],
   "source": [
    "#9\n",
    "import numpy as np\n",
    "import matplotlib.pyplot as plt\n",
    "from scipy.stats import t\n",
    "df = 10\n",
    "x = np.arange(-4, 4, 0.01)\n",
    "y = t.pdf(x, df)\n",
    "plt.plot(x, y)\n",
    "plt.title(\"Student's t-distribution with df = 10\")\n",
    "plt.xlabel(\"x\")\n",
    "plt.ylabel(\"Probability density\")\n",
    "plt.show()\n"
   ]
  },
  {
   "cell_type": "code",
   "execution_count": 5,
   "id": "b4e225f8-1564-4a61-9cf5-a6250f0a6486",
   "metadata": {},
   "outputs": [
    {
     "name": "stdout",
     "output_type": "stream",
     "text": [
      "Sample 1: mean = 10.015198949796359 standard deviation = 2.0752569373161904\n",
      "Sample 2: mean = 12.214130953600288 standard deviation = 3.0329156054984\n",
      "t-statistic = -5.983567434995317\n",
      "p-value = 1.0067565015520213e-08\n",
      "We reject the null hypothesis that the population means are equal.\n"
     ]
    }
   ],
   "source": [
    "#10\n",
    "import numpy as np\n",
    "from scipy.stats import ttest_ind\n",
    "sample1 = np.random.normal(10, 2, 100)\n",
    "sample2 = np.random.normal(12, 3, 100)\n",
    "mean1 = np.mean(sample1)\n",
    "mean2 = np.mean(sample2)\n",
    "std1 = np.std(sample1, ddof=1)\n",
    "std2 = np.std(sample2, ddof=1)\n",
    "print(\"Sample 1: mean =\", mean1, \"standard deviation =\", std1)\n",
    "print(\"Sample 2: mean =\", mean2, \"standard deviation =\", std2)\n",
    "t_stat, p_value = ttest_ind(sample1, sample2)\n",
    "print(\"t-statistic =\", t_stat)\n",
    "print(\"p-value =\", p_value)\n",
    "alpha = 0.05\n",
    "\n",
    "if p_value <= alpha:\n",
    "    print(\"We reject the null hypothesis that the population means are equal.\")\n",
    "else:\n",
    "    print(\"We fail to reject the null hypothesis that the population means are equal.\")"
   ]
  },
  {
   "cell_type": "code",
   "execution_count": null,
   "id": "8769a253-5939-447b-b42f-5a04d52f1866",
   "metadata": {},
   "outputs": [],
   "source": [
    "#11\n",
    "Student’s t-distribution, also known as the t-distribution, is a type of probability distribution that is similar to the normal distribution with its bell shape, but has heavier tails12. It is used for estimating population parameters for small sample sizes or unknown variances"
   ]
  },
  {
   "cell_type": "code",
   "execution_count": null,
   "id": "eec11f23-3634-4e58-874f-cc800f228a55",
   "metadata": {},
   "outputs": [],
   "source": [
    "#12\n",
    "Student’s t-distribution, also known as the t-distribution, is a type of probability distribution that is similar to the normal distribution with its bell shape, but has heavier tails12. It is used for estimating population parameters for small sample sizes or unknown variances"
   ]
  },
  {
   "cell_type": "code",
   "execution_count": null,
   "id": "4f7a4f8c-42b6-4869-ade9-c478f89c30b3",
   "metadata": {},
   "outputs": [],
   "source": [
    "#13\n",
    "To estimate the population mean revenue with a 95% confidence interval, we can use the formula:\n",
    "xˉ±tα/2,df​×n​s​\n",
    "where xˉ is the sample mean, tα/2,df​ is the critical value from the t-distribution with α being the significance level and df being the degrees of freedom, s is the sample standard deviation, and n is the sample size.\n",
    "Plugging in the given values, we get:\n",
    "500±t0.025,49​×50​50​\n",
    "Using a t-table or a calculator, we find that t0.025,49​≈2.01. Therefore, the confidence interval is:\n",
    "500±2.01×50​50​\n",
    "Simplifying, we get:\n",
    "500±14.14\n",
    "Hence, the 95% confidence interval for the population mean revenue is ($485.86, $514.14).\n",
    "We can interpret this as follows: We are 95% confident that the true average daily revenue for the coffee shop is between $485.86 and $514.14."
   ]
  },
  {
   "cell_type": "code",
   "execution_count": null,
   "id": "aa6f79e2-aaa2-48d1-a6d6-eaac4a75451f",
   "metadata": {},
   "outputs": [],
   "source": [
    "#14\n",
    "To test the hypothesis with a significance level of 0.05, we can use a one-sample t-test for the mean. The null and alternative hypotheses are:\n",
    "H0​:μ=10\n",
    "Ha​:μ=10\n",
    "where μ is the population mean decrease in blood pressure.\n",
    "The test statistic is:\n",
    "t=s/n​xˉ−μ0​​\n",
    "where xˉ is the sample mean, μ0​ is the hypothesized mean, s is the sample standard deviation, and n is the sample size.\n",
    "Plugging in the given values, we get:\n",
    "t=3/100​8−10​\n",
    "Simplifying, we get:\n",
    "t=−6.67\n",
    "Using a t-table or a calculator, we find that the p-value for this test statistic with 99 degrees of freedom is approximately 0.00001. This is much smaller than the significance level of 0.05, so we reject the null hypothesis and conclude that there is sufficient evidence to support the alternative hypothesis that the population mean decrease in blood pressure is not equal to 10 mmHg."
   ]
  },
  {
   "cell_type": "code",
   "execution_count": null,
   "id": "8861e647-08a5-4743-bd65-1472a7a6d5cf",
   "metadata": {},
   "outputs": [],
   "source": [
    "#15\n",
    "To test the hypothesis with a significance level of 0.01, we can use a one-sample z-test for the mean, since the population standard deviation is known. The null and alternative hypotheses are:\n",
    "H0​:μ=5\n",
    "Ha​:μ<5\n",
    "where μ is the population mean weight of the products.\n",
    "The test statistic is:\n",
    "z=σ/n​xˉ−μ0​​\n",
    "where xˉ is the sample mean, μ0​ is the hypothesized mean, σ is the population standard deviation, and n is the sample size.\n",
    "Plugging in the given values, we get:\n",
    "z=0.5/25​4.8−5​\n",
    "Simplifying, we get:\n",
    "z=−2\n",
    "Using a z-table or a calculator, we find that the p-value for this test statistic is approximately 0.0228. This is larger than the significance level of 0.01, so we fail to reject the null hypothesis and conclude that there is not enough evidence to support the alternative hypothesis that the population mean weight of the products is less than 5 pounds."
   ]
  },
  {
   "cell_type": "code",
   "execution_count": 6,
   "id": "42d7e5c3-a05e-4e10-9629-6235602b7082",
   "metadata": {},
   "outputs": [],
   "source": [
    "#16\n",
    "To test the hypothesis with a significance level of 0.01, we can use a two-sample t-test for the means, since the population standard deviations are unknown. The null and alternative hypotheses are:\n",
    "H0​:μ1​=μ2​\n",
    "Ha​:μ1​=μ2​\n",
    "where μ1​ and μ2​ are the population means for the first and second group, respectively.\n",
    "The test statistic is:\n",
    "t=n1​s12​​+n2​s22​​​xˉ1​−xˉ2​​\n",
    "where xˉ1​ and xˉ2​ are the sample means, s1​ and s2​ are the sample standard deviations, and n1​ and n2​ are the sample sizes.\n",
    "Plugging in the given values, we get:\n",
    "t=30102​+4082​​80−75​\n",
    "Simplifying, we get:\n",
    "t=2.45\n",
    "Using a t-table or a calculator, we find that the p-value for this test statistic with 67.6 degrees of freedom (using the Welch-Satterthwaite formula) is approximately 0.0167. This is larger than the significance level of 0.01, so we fail to reject the null hypothesis and conclude that there is not enough evidence to support the alternative hypothesis that the population means for the two groups are different."
   ]
  },
  {
   "cell_type": "code",
   "execution_count": 7,
   "id": "fa8a4f47-4487-4f46-a327-d2dc96691a96",
   "metadata": {},
   "outputs": [],
   "source": [
    "#17\n"
   ]
  },
  {
   "cell_type": "code",
   "execution_count": null,
   "id": "3d5a7d83-42e0-464d-97fc-8a05f1a45385",
   "metadata": {},
   "outputs": [],
   "source": []
  }
 ],
 "metadata": {
  "kernelspec": {
   "display_name": "Python 3 (ipykernel)",
   "language": "python",
   "name": "python3"
  },
  "language_info": {
   "codemirror_mode": {
    "name": "ipython",
    "version": 3
   },
   "file_extension": ".py",
   "mimetype": "text/x-python",
   "name": "python",
   "nbconvert_exporter": "python",
   "pygments_lexer": "ipython3",
   "version": "3.10.8"
  }
 },
 "nbformat": 4,
 "nbformat_minor": 5
}
